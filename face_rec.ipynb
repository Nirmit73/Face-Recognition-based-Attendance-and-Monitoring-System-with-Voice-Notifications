{
 "cells": [
  {
   "cell_type": "code",
   "execution_count": null,
   "id": "0589a877",
   "metadata": {},
   "outputs": [],
   "source": [
    "import insightface\n",
    "import warnings\n",
    "warnings.simplefilter('ignore')"
   ]
  },
  {
   "cell_type": "code",
   "execution_count": null,
   "id": "217c35f9",
   "metadata": {},
   "outputs": [],
   "source": [
    "from insightface.app import FaceAnalysis\n",
    "app_l=FaceAnalysis(name='buffalo_l',root='insightface_model')"
   ]
  },
  {
   "cell_type": "code",
   "execution_count": null,
   "id": "4f588d55",
   "metadata": {},
   "outputs": [],
   "source": [
    "app_l.prepare(ctx_id=0,det_size=(640,640))"
   ]
  },
  {
   "cell_type": "code",
   "execution_count": null,
   "id": "365bf2bd",
   "metadata": {},
   "outputs": [],
   "source": [
    "import cv2\n",
    "img=cv2.imread('insightface/test_image_1.jpg')\n",
    "cv2.imshow('image',img)\n",
    "cv2.waitKey(0)\n",
    "cv2.destroyAllWindows()"
   ]
  },
  {
   "cell_type": "code",
   "execution_count": null,
   "id": "89396f14",
   "metadata": {},
   "outputs": [],
   "source": [
    "results_l=app_l.get(img)"
   ]
  },
  {
   "cell_type": "code",
   "execution_count": null,
   "id": "e188f8e6",
   "metadata": {},
   "outputs": [],
   "source": [
    "print(results_l)"
   ]
  },
  {
   "cell_type": "code",
   "execution_count": null,
   "id": "79f0ec06",
   "metadata": {},
   "outputs": [],
   "source": [
    "len(results_l)"
   ]
  },
  {
   "cell_type": "code",
   "execution_count": null,
   "id": "5c84d4b2",
   "metadata": {},
   "outputs": [],
   "source": [
    "results_l[0].keys()"
   ]
  },
  {
   "cell_type": "code",
   "execution_count": null,
   "id": "b53b85e7",
   "metadata": {},
   "outputs": [],
   "source": [
    "results_l[0].kps"
   ]
  },
  {
   "cell_type": "code",
   "execution_count": null,
   "id": "8acf6d07",
   "metadata": {},
   "outputs": [],
   "source": [
    "results_l[0].det_score"
   ]
  },
  {
   "cell_type": "code",
   "execution_count": null,
   "id": "a4ec6e84",
   "metadata": {},
   "outputs": [],
   "source": [
    "img_copy=img.copy()\n",
    "for r in results_l:\n",
    "    x1,y1,x2,y2=r['bbox'].astype('int')\n",
    "    \n",
    "    cv2.rectangle(img_copy,(x1,y1),(x2,y2),(0,255,0),1)\n",
    "    \n",
    "    kps=r['kps'].astype('int')\n",
    "    for k1,k2 in kps:\n",
    "        cv2.circle(img_copy,(k1,k2),2,(255,255,0),-1)\n",
    "    \n",
    "    score=\"score: {}%\".format(int(r['det_score']*100))\n",
    "    cv2.putText(img_copy,score,(x1,y1),cv2.FONT_HERSHEY_PLAIN,1,(255,255,255))\n",
    "    \n",
    "    gender_en=['Female','Male']\n",
    "    gender=gender_en[r['gender']]\n",
    "    age=r['age']\n",
    "    age_gender=f\"{gender}::{age}\"\n",
    "    cv2.putText(img_copy,age_gender,(x2,y2),cv2.FONT_HERSHEY_PLAIN,1,(255,255,255))\n",
    "    \n",
    "cv2.imshow('bbox',img_copy)\n",
    "cv2.waitKey(0)\n",
    "cv2.destroyAllWindows()"
   ]
  },
  {
   "cell_type": "code",
   "execution_count": null,
   "id": "7587244a",
   "metadata": {},
   "outputs": [],
   "source": [
    "import re\n",
    "import os\n",
    "import cv2\n",
    "person_info=[]\n",
    "def clean_name(string):\n",
    "    string=re.sub(r'[^A-Za-z]',' ',string)\n",
    "    string=string.title()\n",
    "    return string\n",
    "\n",
    "path='D:\\project\\Facial Recognition\\data\\images'\n",
    "listdir=os.listdir(path=path)\n",
    "for folder in listdir:\n",
    "    role, name= folder.split('-')\n",
    "    name=clean_name(name)\n",
    "    role=clean_name(role)\n",
    "    #print(role,name)\n",
    "    \n",
    "    img_files=os.listdir(path=f'{path}/{folder}')\n",
    "    #print(img_files)\n",
    "    \n",
    "    for file in img_files:\n",
    "        p=f'{path}/{folder}/{file}'\n",
    "        img=cv2.imread(p)\n",
    "        result=app_l.get(img)\n",
    "        if len(result)>0:\n",
    "            res=result[0]\n",
    "            embedding=res['embedding']\n",
    "            person_info.append([name,role,embedding])"
   ]
  },
  {
   "cell_type": "code",
   "execution_count": null,
   "id": "2a424c12",
   "metadata": {},
   "outputs": [],
   "source": [
    "import pandas as pd\n",
    "df=pd.DataFrame(person_info,columns=['Name','Role','Facial_Features'])\n",
    "df"
   ]
  },
  {
   "cell_type": "code",
   "execution_count": null,
   "id": "8f0d9962",
   "metadata": {},
   "outputs": [],
   "source": [
    "from sklearn.metrics.pairwise import cosine_similarity\n",
    "def search(df,feature_col,test_vector,threshold=0.5):\n",
    "    df=df.copy()\n",
    "    x_list=df[feature_col].to_list()\n",
    "    x=np.asarray(x_list)\n",
    "    \n",
    "    similar=cosine_similarity(x,test_vector.reshape(1,-1))\n",
    "    similar_arr=np.array(similar).flatten()\n",
    "    df['cosine']=similar_arr\n",
    "    \n",
    "    data_filter=df.query(f'cosine >= {threshold}')\n",
    "    if len(data_filter)>0:\n",
    "        data_filter.reset_index(drop=True,inplace=True)\n",
    "        argmax=data_filter['cosine'].argmax()\n",
    "        person_name,person_role=data_filter.loc[argmax][['Name','Role']]\n",
    "        \n",
    "    else:\n",
    "        person_name='Unknown'\n",
    "        person_role='Unknown'\n",
    "\n",
    "    return person_name,person_role"
   ]
  },
  {
   "cell_type": "code",
   "execution_count": null,
   "id": "2775dfbc",
   "metadata": {},
   "outputs": [],
   "source": [
    "import cv2\n",
    "test_image=cv2.imread('insightface/test_11.jpg')\n",
    "cv2.imshow('test image',test_image)\n",
    "cv2.waitKey(0)\n",
    "cv2.destroyAllWindows()"
   ]
  },
  {
   "cell_type": "code",
   "execution_count": null,
   "id": "4b1fedeb",
   "metadata": {},
   "outputs": [],
   "source": [
    "results=app_l.get(test_image)\n",
    "test_copy=test_image.copy()\n",
    "import numpy as np\n",
    "for r in results:\n",
    "    x1,y1,x2,y2=r['bbox'].astype('int')\n",
    "    embeddings=r['embedding']\n",
    "    person_name,person_role=search(df,'Facial_Features',embeddings,threshold=0.5)\n",
    "    \n",
    "    if person_name=='Unknown':\n",
    "        color=(0,0,255)\n",
    "    else:\n",
    "        color=(0,255,0)\n",
    "    cv2.rectangle(test_copy,(x1,y1),(x2,y2),color) \n",
    "    cv2.putText(test_copy,person_name,(x1,y1),cv2.FONT_HERSHEY_DUPLEX,0.7,color,2)\n",
    "    \n",
    "cv2.imshow('test image',test_copy)\n",
    "cv2.waitKey(0)\n",
    "cv2.destroyAllWindows()"
   ]
  },
  {
   "cell_type": "code",
   "execution_count": null,
   "id": "c0b71fbd",
   "metadata": {},
   "outputs": [],
   "source": [
    "df_mean=df.groupby(by=['Name','Role']).mean()"
   ]
  },
  {
   "cell_type": "code",
   "execution_count": null,
   "id": "d824a6ea",
   "metadata": {},
   "outputs": [],
   "source": [
    "df_mean.reset_index(inplace=True)"
   ]
  },
  {
   "cell_type": "code",
   "execution_count": null,
   "id": "8099c36b",
   "metadata": {},
   "outputs": [],
   "source": [
    "results=app_l.get(test_image)\n",
    "test_copy=test_image.copy()\n",
    "import numpy as np\n",
    "for r in results:\n",
    "    x1,y1,x2,y2=r['bbox'].astype('int')\n",
    "    embeddings=r['embedding']\n",
    "    person_name,person_role=search(df_mean,'Facial_Features',embeddings,threshold=0.5)\n",
    "    \n",
    "    if person_name=='Unknown':\n",
    "        color=(0,0,255)\n",
    "    else:\n",
    "        color=(0,255,0)\n",
    "    cv2.rectangle(test_copy,(x1,y1),(x2,y2),color) \n",
    "    cv2.putText(test_copy,person_name,(x1,y1),cv2.FONT_HERSHEY_DUPLEX,0.7,color,2)\n",
    "    \n",
    "cv2.imshow('test image',test_copy)\n",
    "cv2.waitKey(0)\n",
    "cv2.destroyAllWindows()"
   ]
  },
  {
   "cell_type": "code",
   "execution_count": null,
   "id": "ef364dba",
   "metadata": {},
   "outputs": [],
   "source": [
    "xvalues=df_mean.values\n",
    "cols=np.array(df_mean.columns)\n",
    "cols"
   ]
  },
  {
   "cell_type": "code",
   "execution_count": null,
   "id": "25e5719d",
   "metadata": {},
   "outputs": [],
   "source": [
    "np.savez('df_manager_employees.npz',xvalues,cols)"
   ]
  },
  {
   "cell_type": "code",
   "execution_count": null,
   "id": "053c3672",
   "metadata": {},
   "outputs": [],
   "source": [
    "file_np=np.load('df_manager_employees.npz',allow_pickle=True)\n",
    "file_np.files"
   ]
  },
  {
   "cell_type": "code",
   "execution_count": null,
   "id": "ab9af18c",
   "metadata": {},
   "outputs": [],
   "source": [
    "pd.DataFrame(file_np['arr_0'],columns=file_np['arr_1'])"
   ]
  },
  {
   "cell_type": "code",
   "execution_count": null,
   "id": "a5744916",
   "metadata": {},
   "outputs": [],
   "source": []
  }
 ],
 "metadata": {
  "kernelspec": {
   "display_name": "Python 3 (ipykernel)",
   "language": "python",
   "name": "python3"
  },
  "language_info": {
   "codemirror_mode": {
    "name": "ipython",
    "version": 3
   },
   "file_extension": ".py",
   "mimetype": "text/x-python",
   "name": "python",
   "nbconvert_exporter": "python",
   "pygments_lexer": "ipython3",
   "version": "3.12.4"
  }
 },
 "nbformat": 4,
 "nbformat_minor": 5
}
