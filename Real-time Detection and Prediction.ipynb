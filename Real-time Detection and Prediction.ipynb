{
 "cells": [
  {
   "cell_type": "code",
   "execution_count": 1,
   "id": "c97e4801",
   "metadata": {},
   "outputs": [
    {
     "name": "stderr",
     "output_type": "stream",
     "text": [
      "C:\\Users\\nitin\\anaconda3\\lib\\site-packages\\scipy\\__init__.py:146: UserWarning: A NumPy version >=1.16.5 and <1.23.0 is required for this version of SciPy (detected version 1.26.4\n",
      "  warnings.warn(f\"A NumPy version >={np_minversion} and <{np_maxversion}\"\n",
      "C:\\Users\\nitin\\anaconda3\\lib\\site-packages\\onnxruntime\\capi\\onnxruntime_inference_collection.py:69: UserWarning: Specified provider 'CUDAExecutionProvider' is not in available provider names.Available providers: 'AzureExecutionProvider, CPUExecutionProvider'\n",
      "  warnings.warn(\n"
     ]
    },
    {
     "name": "stdout",
     "output_type": "stream",
     "text": [
      "Applied providers: ['CPUExecutionProvider'], with options: {'CPUExecutionProvider': {}}\n",
      "find model: insightface_model\\models\\buffalo_l\\1k3d68.onnx landmark_3d_68 ['None', 3, 192, 192] 0.0 1.0\n",
      "Applied providers: ['CPUExecutionProvider'], with options: {'CPUExecutionProvider': {}}\n",
      "find model: insightface_model\\models\\buffalo_l\\2d106det.onnx landmark_2d_106 ['None', 3, 192, 192] 0.0 1.0\n",
      "Applied providers: ['CPUExecutionProvider'], with options: {'CPUExecutionProvider': {}}\n",
      "find model: insightface_model\\models\\buffalo_l\\det_10g.onnx detection [1, 3, '?', '?'] 127.5 128.0\n",
      "Applied providers: ['CPUExecutionProvider'], with options: {'CPUExecutionProvider': {}}\n",
      "find model: insightface_model\\models\\buffalo_l\\genderage.onnx genderage ['None', 3, 96, 96] 0.0 1.0\n",
      "Applied providers: ['CPUExecutionProvider'], with options: {'CPUExecutionProvider': {}}\n",
      "find model: insightface_model\\models\\buffalo_l\\w600k_r50.onnx recognition ['None', 3, 112, 112] 127.5 127.5\n",
      "set det-size: (640, 640)\n"
     ]
    }
   ],
   "source": [
    "import redis\n",
    "import numpy as np\n",
    "import pandas as pd\n",
    "import cv2\n",
    "import FaceRec"
   ]
  },
  {
   "cell_type": "code",
   "execution_count": 2,
   "id": "699ebbca",
   "metadata": {},
   "outputs": [],
   "source": [
    "hostname='redis-11446.c265.us-east-1-2.ec2.redns.redis-cloud.com'\n",
    "port=11446\n",
    "password='73yAJgBY7pYl8gNn9XKpnOSA7ILX2MYP'\n",
    "\n",
    "r=redis.StrictRedis(host=hostname,port=port,password=password)"
   ]
  },
  {
   "cell_type": "code",
   "execution_count": 3,
   "id": "af2090ea",
   "metadata": {},
   "outputs": [
    {
     "data": {
      "text/plain": [
       "True"
      ]
     },
     "execution_count": 3,
     "metadata": {},
     "output_type": "execute_result"
    }
   ],
   "source": [
    "r.ping()"
   ]
  },
  {
   "cell_type": "code",
   "execution_count": 4,
   "id": "fb03ca07",
   "metadata": {},
   "outputs": [
    {
     "data": {
      "text/html": [
       "<div>\n",
       "<style scoped>\n",
       "    .dataframe tbody tr th:only-of-type {\n",
       "        vertical-align: middle;\n",
       "    }\n",
       "\n",
       "    .dataframe tbody tr th {\n",
       "        vertical-align: top;\n",
       "    }\n",
       "\n",
       "    .dataframe thead th {\n",
       "        text-align: right;\n",
       "    }\n",
       "</style>\n",
       "<table border=\"1\" class=\"dataframe\">\n",
       "  <thead>\n",
       "    <tr style=\"text-align: right;\">\n",
       "      <th></th>\n",
       "      <th>Name</th>\n",
       "      <th>Role</th>\n",
       "      <th>Facial_Features</th>\n",
       "    </tr>\n",
       "  </thead>\n",
       "  <tbody>\n",
       "    <tr>\n",
       "      <th>0</th>\n",
       "      <td>Angelina Jolie</td>\n",
       "      <td>Student</td>\n",
       "      <td>[0.19881932, 1.4748837, -0.0979588, -0.8805054...</td>\n",
       "    </tr>\n",
       "    <tr>\n",
       "      <th>1</th>\n",
       "      <td>Barack Obama</td>\n",
       "      <td>Teacher</td>\n",
       "      <td>[-0.22177827, 1.5762169, -0.5030781, 0.1360128...</td>\n",
       "    </tr>\n",
       "    <tr>\n",
       "      <th>2</th>\n",
       "      <td>Chris Evans</td>\n",
       "      <td>Student</td>\n",
       "      <td>[0.35691047, -0.41491055, 0.039218444, -0.1543...</td>\n",
       "    </tr>\n",
       "    <tr>\n",
       "      <th>3</th>\n",
       "      <td>Morgan Freeman</td>\n",
       "      <td>Teacher</td>\n",
       "      <td>[0.76278937, 0.890615, 0.46873552, 0.25898102,...</td>\n",
       "    </tr>\n",
       "    <tr>\n",
       "      <th>4</th>\n",
       "      <td>Scarlett Johansson</td>\n",
       "      <td>Student</td>\n",
       "      <td>[-0.13535985, -0.2821385, -0.42700845, -0.2825...</td>\n",
       "    </tr>\n",
       "  </tbody>\n",
       "</table>\n",
       "</div>"
      ],
      "text/plain": [
       "                 Name     Role  \\\n",
       "0      Angelina Jolie  Student   \n",
       "1        Barack Obama  Teacher   \n",
       "2         Chris Evans  Student   \n",
       "3      Morgan Freeman  Teacher   \n",
       "4  Scarlett Johansson  Student   \n",
       "\n",
       "                                     Facial_Features  \n",
       "0  [0.19881932, 1.4748837, -0.0979588, -0.8805054...  \n",
       "1  [-0.22177827, 1.5762169, -0.5030781, 0.1360128...  \n",
       "2  [0.35691047, -0.41491055, 0.039218444, -0.1543...  \n",
       "3  [0.76278937, 0.890615, 0.46873552, 0.25898102,...  \n",
       "4  [-0.13535985, -0.2821385, -0.42700845, -0.2825...  "
      ]
     },
     "execution_count": 4,
     "metadata": {},
     "output_type": "execute_result"
    }
   ],
   "source": [
    "file_np=np.load('df_students_teacher.npz',allow_pickle=True)\n",
    "file_np.files\n",
    "df_1=pd.DataFrame(file_np['arr_0'],columns=file_np['arr_1'])\n",
    "df_1"
   ]
  },
  {
   "cell_type": "code",
   "execution_count": 5,
   "id": "8fbd6c7b",
   "metadata": {},
   "outputs": [
    {
     "data": {
      "text/html": [
       "<div>\n",
       "<style scoped>\n",
       "    .dataframe tbody tr th:only-of-type {\n",
       "        vertical-align: middle;\n",
       "    }\n",
       "\n",
       "    .dataframe tbody tr th {\n",
       "        vertical-align: top;\n",
       "    }\n",
       "\n",
       "    .dataframe thead th {\n",
       "        text-align: right;\n",
       "    }\n",
       "</style>\n",
       "<table border=\"1\" class=\"dataframe\">\n",
       "  <thead>\n",
       "    <tr style=\"text-align: right;\">\n",
       "      <th></th>\n",
       "      <th>Name</th>\n",
       "      <th>Role</th>\n",
       "      <th>Facial_Features</th>\n",
       "      <th>Name_Role</th>\n",
       "    </tr>\n",
       "  </thead>\n",
       "  <tbody>\n",
       "    <tr>\n",
       "      <th>0</th>\n",
       "      <td>Angelina Jolie</td>\n",
       "      <td>Student</td>\n",
       "      <td>[0.19881932, 1.4748837, -0.0979588, -0.8805054...</td>\n",
       "      <td>Angelina Jolie@Student</td>\n",
       "    </tr>\n",
       "    <tr>\n",
       "      <th>1</th>\n",
       "      <td>Barack Obama</td>\n",
       "      <td>Teacher</td>\n",
       "      <td>[-0.22177827, 1.5762169, -0.5030781, 0.1360128...</td>\n",
       "      <td>Barack Obama@Teacher</td>\n",
       "    </tr>\n",
       "    <tr>\n",
       "      <th>2</th>\n",
       "      <td>Chris Evans</td>\n",
       "      <td>Student</td>\n",
       "      <td>[0.35691047, -0.41491055, 0.039218444, -0.1543...</td>\n",
       "      <td>Chris Evans@Student</td>\n",
       "    </tr>\n",
       "    <tr>\n",
       "      <th>3</th>\n",
       "      <td>Morgan Freeman</td>\n",
       "      <td>Teacher</td>\n",
       "      <td>[0.76278937, 0.890615, 0.46873552, 0.25898102,...</td>\n",
       "      <td>Morgan Freeman@Teacher</td>\n",
       "    </tr>\n",
       "    <tr>\n",
       "      <th>4</th>\n",
       "      <td>Scarlett Johansson</td>\n",
       "      <td>Student</td>\n",
       "      <td>[-0.13535985, -0.2821385, -0.42700845, -0.2825...</td>\n",
       "      <td>Scarlett Johansson@Student</td>\n",
       "    </tr>\n",
       "  </tbody>\n",
       "</table>\n",
       "</div>"
      ],
      "text/plain": [
       "                 Name     Role  \\\n",
       "0      Angelina Jolie  Student   \n",
       "1        Barack Obama  Teacher   \n",
       "2         Chris Evans  Student   \n",
       "3      Morgan Freeman  Teacher   \n",
       "4  Scarlett Johansson  Student   \n",
       "\n",
       "                                     Facial_Features  \\\n",
       "0  [0.19881932, 1.4748837, -0.0979588, -0.8805054...   \n",
       "1  [-0.22177827, 1.5762169, -0.5030781, 0.1360128...   \n",
       "2  [0.35691047, -0.41491055, 0.039218444, -0.1543...   \n",
       "3  [0.76278937, 0.890615, 0.46873552, 0.25898102,...   \n",
       "4  [-0.13535985, -0.2821385, -0.42700845, -0.2825...   \n",
       "\n",
       "                    Name_Role  \n",
       "0      Angelina Jolie@Student  \n",
       "1        Barack Obama@Teacher  \n",
       "2         Chris Evans@Student  \n",
       "3      Morgan Freeman@Teacher  \n",
       "4  Scarlett Johansson@Student  "
      ]
     },
     "execution_count": 5,
     "metadata": {},
     "output_type": "execute_result"
    }
   ],
   "source": [
    "df_1['Name_Role']=df_1['Name']+'@'+df_1['Role']\n",
    "df_1"
   ]
  },
  {
   "cell_type": "code",
   "execution_count": 6,
   "id": "c72b2037",
   "metadata": {},
   "outputs": [
    {
     "data": {
      "text/plain": [
       "5"
      ]
     },
     "execution_count": 6,
     "metadata": {},
     "output_type": "execute_result"
    }
   ],
   "source": [
    "records=df_1[['Name_Role','Facial_Features']].to_dict(orient='records')\n",
    "len(records)"
   ]
  },
  {
   "cell_type": "markdown",
   "id": "1150f226",
   "metadata": {},
   "source": [
    "### Saving Data in Redis"
   ]
  },
  {
   "cell_type": "code",
   "execution_count": 7,
   "id": "61634338",
   "metadata": {},
   "outputs": [],
   "source": [
    "for record in records:\n",
    "    name_role=record['Name_Role']\n",
    "    vector=record['Facial_Features']\n",
    "    \n",
    "    vector_bytes=vector.tobytes()\n",
    "    r.hset(name='academy:register',key=name_role,value=vector_bytes)"
   ]
  },
  {
   "cell_type": "code",
   "execution_count": 8,
   "id": "695e88fb",
   "metadata": {},
   "outputs": [
    {
     "name": "stdout",
     "output_type": "stream",
     "text": [
      "Applied providers: ['CPUExecutionProvider'], with options: {'CPUExecutionProvider': {}}\n",
      "find model: insightface_model\\models\\buffalo_l\\1k3d68.onnx landmark_3d_68 ['None', 3, 192, 192] 0.0 1.0\n",
      "Applied providers: ['CPUExecutionProvider'], with options: {'CPUExecutionProvider': {}}\n",
      "find model: insightface_model\\models\\buffalo_l\\2d106det.onnx landmark_2d_106 ['None', 3, 192, 192] 0.0 1.0\n",
      "Applied providers: ['CPUExecutionProvider'], with options: {'CPUExecutionProvider': {}}\n",
      "find model: insightface_model\\models\\buffalo_l\\det_10g.onnx detection [1, 3, '?', '?'] 127.5 128.0\n",
      "Applied providers: ['CPUExecutionProvider'], with options: {'CPUExecutionProvider': {}}\n",
      "find model: insightface_model\\models\\buffalo_l\\genderage.onnx genderage ['None', 3, 96, 96] 0.0 1.0\n",
      "Applied providers: ['CPUExecutionProvider'], with options: {'CPUExecutionProvider': {}}\n",
      "find model: insightface_model\\models\\buffalo_l\\w600k_r50.onnx recognition ['None', 3, 112, 112] 127.5 127.5\n",
      "set det-size: (640, 640)\n"
     ]
    }
   ],
   "source": [
    "import insightface\n",
    "import cv2\n",
    "import warnings\n",
    "warnings.simplefilter('ignore')\n",
    "from insightface.app import FaceAnalysis\n",
    "face_app=FaceAnalysis(name='buffalo_l',root='insightface_model')\n",
    "face_app.prepare(ctx_id=0,det_size=(640,640),det_thresh=0.5)"
   ]
  },
  {
   "cell_type": "markdown",
   "id": "04860a64",
   "metadata": {},
   "source": [
    "### Register yourself"
   ]
  },
  {
   "cell_type": "code",
   "execution_count": 9,
   "id": "15063f1c",
   "metadata": {},
   "outputs": [
    {
     "name": "stdout",
     "output_type": "stream",
     "text": [
      "Enter your name: Nirmit\n",
      "\n",
      "    Please choose one option:\n",
      "    1. Employee\n",
      "    2. Manager\n",
      "    1\n",
      "Your name: Nirmit\n",
      "Your role: Employee\n",
      "Key: Nirmit@Employee\n"
     ]
    }
   ],
   "source": [
    "person_name=input('Enter your name: ')\n",
    "\n",
    "trials=3\n",
    "for i in range(trials):\n",
    "    role=input(\"\"\"\n",
    "    Please choose one option:\n",
    "    1. Employee\n",
    "    2. Manager\n",
    "    \"\"\")\n",
    "    \n",
    "    if role in ['1','2']:\n",
    "        if role=='1':\n",
    "            role='Employee'\n",
    "        else:\n",
    "            role='Manager'\n",
    "        key=person_name+'@'+role\n",
    "        print('Your name:',person_name)\n",
    "        print('Your role:',role)\n",
    "        print('Key:',key)\n",
    "        break\n",
    "    else:\n",
    "        print('Invalid entry try again')\n",
    "        if i==2:\n",
    "            print('Exceeded maximum trials')\n",
    "\n",
    "\n"
   ]
  },
  {
   "cell_type": "markdown",
   "id": "d428a858",
   "metadata": {},
   "source": [
    "### Collecting Samples"
   ]
  },
  {
   "cell_type": "code",
   "execution_count": 10,
   "id": "ad87ceef",
   "metadata": {},
   "outputs": [],
   "source": [
    "cap=cv2.VideoCapture(0)\n",
    "face_embeddings=[]\n",
    "samples=0\n",
    "while True:\n",
    "    ret, frame=cap.read()\n",
    "    if ret==False:\n",
    "        print('Unable to read camera')\n",
    "        break\n",
    "    results=face_app.get(frame,max_num=1)\n",
    "    for res in results:\n",
    "        samples+=1\n",
    "        x1,y1,x2,y2=res['bbox'].astype('int')\n",
    "        cv2.rectangle(frame,(x1,y1),(x2,y2),(0,255,0),1)\n",
    "        embeddings=res['embedding']\n",
    "        face_embeddings.append(embeddings)\n",
    "    \n",
    "    if samples>=200:\n",
    "        break\n",
    "    cv2.imshow('frame',frame)\n",
    "    if cv2.waitKey(1)==ord('q'):\n",
    "        break\n",
    "cap.release()\n",
    "cv2.destroyAllWindows()"
   ]
  },
  {
   "cell_type": "code",
   "execution_count": 11,
   "id": "0f470d5f",
   "metadata": {},
   "outputs": [
    {
     "data": {
      "text/plain": [
       "108"
      ]
     },
     "execution_count": 11,
     "metadata": {},
     "output_type": "execute_result"
    }
   ],
   "source": [
    "len(face_embeddings)"
   ]
  },
  {
   "cell_type": "code",
   "execution_count": 12,
   "id": "61668f1f",
   "metadata": {},
   "outputs": [
    {
     "data": {
      "text/plain": [
       "(512,)"
      ]
     },
     "execution_count": 12,
     "metadata": {},
     "output_type": "execute_result"
    }
   ],
   "source": [
    "x_mean=np.asarray(face_embeddings).mean(axis=0)\n",
    "x_mean.shape"
   ]
  },
  {
   "cell_type": "code",
   "execution_count": 13,
   "id": "82646e0b",
   "metadata": {},
   "outputs": [],
   "source": [
    "x_mean_bytes=x_mean.tobytes()"
   ]
  },
  {
   "cell_type": "code",
   "execution_count": 14,
   "id": "85018c1d",
   "metadata": {},
   "outputs": [
    {
     "data": {
      "text/plain": [
       "1"
      ]
     },
     "execution_count": 14,
     "metadata": {},
     "output_type": "execute_result"
    }
   ],
   "source": [
    "r.hset(name='academy:register',key=key,value=x_mean_bytes)"
   ]
  },
  {
   "cell_type": "markdown",
   "id": "5a7bdcfe",
   "metadata": {},
   "source": [
    "### Retrieve data from Redis"
   ]
  },
  {
   "cell_type": "code",
   "execution_count": null,
   "id": "6d808e4a",
   "metadata": {},
   "outputs": [],
   "source": [
    "retrive_dict=r.hgetall(name='academy:register')\n",
    "retrive_series=pd.Series(retrive_dict)\n",
    "retrive_series"
   ]
  },
  {
   "cell_type": "code",
   "execution_count": 16,
   "id": "0e0169de",
   "metadata": {},
   "outputs": [],
   "source": [
    "retrive_series=retrive_series.apply(lambda x:np.frombuffer(x,dtype=np.float32))\n",
    "index=retrive_series.index\n",
    "index=list(map(lambda x:x.decode(),index))"
   ]
  },
  {
   "cell_type": "code",
   "execution_count": 17,
   "id": "8b68ed17",
   "metadata": {},
   "outputs": [],
   "source": [
    "retrive_series.index=index"
   ]
  },
  {
   "cell_type": "code",
   "execution_count": null,
   "id": "5384aade",
   "metadata": {},
   "outputs": [],
   "source": [
    "retrive_df=retrive_series.to_frame().reset_index()\n",
    "retrive_df.columns=['name_role','facial_features']\n",
    "retrive_df[['Name','Role']]=retrive_df['name_role'].apply(lambda x: x.split('@')).apply(pd.Series)\n",
    "retrive_df"
   ]
  },
  {
   "cell_type": "markdown",
   "id": "27f89a17",
   "metadata": {},
   "source": [
    "### Real time prediction"
   ]
  },
  {
   "cell_type": "code",
   "execution_count": 19,
   "id": "347850f0",
   "metadata": {},
   "outputs": [],
   "source": [
    "cap=cv2.VideoCapture(0)\n",
    "p=set()\n",
    "while True:\n",
    "    ret, frame=cap.read()\n",
    "    if ret == False:\n",
    "        break\n",
    "    pred_frame=FaceRec.face_prediction(frame, retrive_df,'facial_features',threshold=0.5)\n",
    "    \n",
    "    cv2.imshow('frame',frame)\n",
    "    cv2.imshow('prediction',pred_frame)\n",
    "    \n",
    "    results = FaceRec.faceapp.get(frame)\n",
    "    for r in results:\n",
    "        x1, y1, x2, y2 = r['bbox'].astype('int')\n",
    "        embeddings = r['embedding']\n",
    "        person_name, person_role = FaceRec.search(retrive_df, 'facial_features', test_vector=embeddings, threshold=0.5)\n",
    "        \n",
    "        if person_name != 'Unknown' and person_name not in p:\n",
    "            # Call the speak_name function to speak the detected person's name\n",
    "            FaceRec.speak_name(person_name)\n",
    "            p.add(person_name)\n",
    "        if cv2.waitKey(1)==27:\n",
    "            break\n",
    "    if cv2.waitKey(1)==27:\n",
    "        break\n",
    "cv2.destroyAllWindows()\n",
    "cap.release()"
   ]
  },
  {
   "cell_type": "code",
   "execution_count": 22,
   "id": "95392930",
   "metadata": {},
   "outputs": [],
   "source": [
    "cap.release()"
   ]
  },
  {
   "cell_type": "code",
   "execution_count": 171,
   "id": "38762934",
   "metadata": {},
   "outputs": [
    {
     "data": {
      "text/plain": [
       "True"
      ]
     },
     "execution_count": 171,
     "metadata": {},
     "output_type": "execute_result"
    }
   ],
   "source": [
    "#r.flushdb()"
   ]
  },
  {
   "cell_type": "code",
   "execution_count": null,
   "id": "4660fb04",
   "metadata": {},
   "outputs": [],
   "source": []
  }
 ],
 "metadata": {
  "kernelspec": {
   "display_name": "Python 3 (ipykernel)",
   "language": "python",
   "name": "python3"
  },
  "language_info": {
   "codemirror_mode": {
    "name": "ipython",
    "version": 3
   },
   "file_extension": ".py",
   "mimetype": "text/x-python",
   "name": "python",
   "nbconvert_exporter": "python",
   "pygments_lexer": "ipython3",
   "version": "3.12.4"
  }
 },
 "nbformat": 4,
 "nbformat_minor": 5
}
